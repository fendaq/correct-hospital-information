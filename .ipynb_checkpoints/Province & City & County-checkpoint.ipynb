{
 "cells": [
  {
   "cell_type": "markdown",
   "metadata": {},
   "source": [
    "# 首页的  省市区（以字典存储） dict{'province','city'}     "
   ]
  },
  {
   "cell_type": "code",
   "execution_count": null,
   "metadata": {
    "collapsed": true
   },
   "outputs": [],
   "source": [
    "## 如果省市区的话， 区不好弄，要先获得省市，再字符串拼接获得区"
   ]
  },
  {
   "cell_type": "code",
   "execution_count": 2,
   "metadata": {
    "collapsed": false
   },
   "outputs": [
    {
     "name": "stdout",
     "output_type": "stream",
     "text": [
      "31\n",
      "[['北京市', '朝阳区', '海淀区', '丰台区', '东城区', '西城区', '昌平区', '宣武区', '房山区', '崇文区', '石景山区', '门头沟区', '通州区', '大兴区', '顺义区', '怀柔区', '密云县', '平谷区', '延庆县'], ['上海市', '浦东新区', '徐汇区', '长宁区', '闸北区', '虹口区', '杨浦区', '闵行区', '宝山区', '黄浦区', '奉贤区', '静安区', '卢湾区', '普陀区', '崇明县', '青浦区', '嘉定区', '金山区', '松江区'], ['重庆市', '九龙坡区', '万州区', '沙坪坝区', '渝中区', '江北区', '南岸区', '巴南区', '永川市', '江津市', '綦江县', '北碚区', '合川市', '南川市', '涪陵区', '渝北区', '大渡口区', '大足县', '长寿区', '荣昌县', '梁平县', '云阳县', '璧山县', '开县', '万盛区', '潼南县', '垫江县', '丰都县', '巫溪县', '奉节县', '铜梁县', '忠县', '黔江区', '巫山县', '酉阳土家族苗族自治县', '武隆县', '城口县', '彭水苗族土家族自治县', '秀山土家族苗族自治县', '双桥区', '石柱土家族自治县'], ['天津市', '和平区', '河西区', '南开区', '河北区', '红桥区', '河东区', '塘沽区', '西青区', '汉沽区', '东丽区', '蓟县', '大港区', '北辰区', '武清', '津南区', '宁河', '静海', '宝坻'], ['江苏省', '苏州市', '无锡市', '淮安市', '南京市', '盐城市', '徐州市', '宿迁市', '泰州市', '南通市', '常州市', '连云港市', '扬州市', '镇江市'], ['广东省', '广州市', '深圳市', '惠州市', '佛山市', '梅州市', '肇庆市', '韶关市', '揭阳市', '汕头市', '东莞市', '湛江市', '中山市', '清远市', '潮州市', '茂名市', '珠海市', '江门市', '阳江市', '河源市', '汕尾市', '云浮市'], ['山东省', '青岛市', '济南市', '济宁市', '烟台市', '潍坊市', '淄博市', '临沂市', '菏泽市', '枣庄市', '泰安市', '聊城市', '东营市', '威海市', '德州市', '滨州市', '日照市', '莱芜市'], ['辽宁省', '沈阳市', '大连市', '锦州市', '鞍山市', '抚顺市', '丹东市', '朝阳市', '营口市', '葫芦岛市', '阜新市', '辽阳市', '铁岭市', '本溪市', '盘锦市'], ['河北省', '石家庄市', '唐山市', '保定市', '邯郸市', '邢台市', '沧州市', '张家口市', '承德市', '廊坊市', '衡水市', '秦皇岛市'], ['河南省', '郑州市', '洛阳市', '南阳市', '新乡市', '焦作市', '周口市', '平顶山市', '开封市', '信阳市', '商丘市', '安阳市', '许昌市', '三门峡市', '驻马店市', '漯河市', '濮阳市', '鹤壁市', '济源市'], ['四川省', '成都市', '绵阳市', '乐山市', '南充市', '宜宾市', '甘孜藏族自治州', '广元市', '凉山彝族自治州', '达州市', '自贡市', '德阳市', '攀枝花市', '泸州市', '雅安市', '内江市', '阿坝藏族羌族自治州', '遂宁市', '巴中市', '资阳市', '广安市', '眉山市'], ['黑龙江省', '哈尔滨市', '齐齐哈尔市', '牡丹江市', '绥化市', '大庆市', '佳木斯市', '鸡西市', '伊春市', '黑河市', '双鸭山市', '鹤岗市', '大兴安岭地区', '七台河市'], ['山西省', '太原市', '运城市', '临汾市', '大同市', '忻州市', '晋中市', '长治市', '吕梁地区', '晋城市', '阳泉市', '朔州市'], ['湖北省', '武汉市', '襄樊市', '宜昌市', '荆州市', '黄石市', '黄冈市', '孝感市', '十堰市', '咸宁市', '恩施土家族苗族自治州', '荆门市', '随州市', '鄂州市', '天门市', '仙桃市', '潜江市', '神农架林区'], ['湖南省', '长沙市', '衡阳市', '湘潭市', '株洲市', '永州市', '邵阳市', '岳阳市', '郴州市', '怀化市', '益阳市', '常德市', '娄底市', '湘西土家族苗族自治州', '张家界市'], ['陕西省', '西安市', '渭南市', '咸阳市', '宝鸡市', '汉中市', '延安市', '榆林市', '安康市', '商洛市', '铜川市'], ['浙江省', '杭州市', '宁波市', '温州市', '金华市', '台州市', '绍兴市', '嘉兴市', '衢州市', '丽水市', '湖州市', '舟山市'], ['云南省', '昆明市', '红河哈尼族彝族自治州', '大理白族自治州', '曲靖市', '昭通市', '玉溪市', '楚雄彝族自治州', '思茅地区', '文山壮族苗族自治州', '临沧地区', '保山市', '德宏傣族景颇族自治州', '丽江地区', '西双版纳傣族自治州', '怒江傈僳族自治州', '迪庆藏族自治州'], ['吉林省', '长春市', '延边朝鲜族自治州', '吉林市', '通化市', '四平市', '白城市', '辽源市', '白山市', '松原市'], ['安徽省', '合肥市', '淮南市', '安庆市', '阜阳市', '宣城市', '芜湖市', '蚌埠市', '六安市', '滁州市', '淮北市', '宿州市', '黄山市', '巢湖市', '铜陵市', '马鞍山市', '亳州市', '池州市'], ['广西壮族自治区', '南宁市', '柳州市', '桂林市', '百色市', '河池市', '玉林市', '梧州市', '崇左市', '贵港市', '来宾市', '北海市', '钦州市', '贺州市', '防城港市'], ['江西省', '南昌市', '赣州市', '上饶市', '吉安市', '九江市', '宜春市', '抚州市', '萍乡市', '景德镇市', '鹰潭市', '新余市'], ['福建省', '福州市', '泉州市', '南平市', '厦门市', '漳州市', '三明市', '龙岩市', '莆田市', '宁德市'], ['新疆维吾尔自治区', '乌鲁木齐市', '喀什地区', '伊犁哈萨克自治州', '巴音郭楞蒙古自治州', '昌吉回族自治州', '石河子市', '塔城地区', '和田地区', '阿克苏地区', '阿勒泰地区', '哈密地区', '吐鲁番地区', '博尔塔拉蒙古自治州', '克拉玛依市', '克孜勒苏柯尔克孜自治州', '阿拉尔市', '图木舒克市', '五家渠市'], ['内蒙古自治区', '呼和浩特市', '呼伦贝尔市', '赤峰市', '通辽市', '鄂尔多斯市', '乌兰察布市', '锡林郭勒盟', '巴彦淖尔市', '乌海市', '兴安盟', '阿拉善盟', '包头市'], ['甘肃省', '兰州市', '天水市', '陇南地区', '平凉市', '定西地区', '庆阳市', '武威市', '酒泉市', '白银市', '张掖市', '临夏回族自治州', '甘南藏族自治州', '金昌市', '嘉峪关市'], ['贵州省', '贵阳市', '遵义市', '毕节地区', '黔南布依族苗族自治州', '黔东南苗族侗族自治州', '安顺市', '六盘水市', '铜仁地区', '黔西南布依族苗族自治州'], ['海南省', '海口市', '儋州市', '三亚市', '澄迈县', '文昌市', '琼海市', '万宁市', '屯昌县', '琼中黎族苗族自治县', '昌江黎族自治县', '乐东黎族自治县', '保亭黎族苗族自治县', '五指山市', '东方市', '临高县', '定安县', '白沙黎族自治县', '陵水黎族自治县', '琼山市'], ['青海省', '西宁市', '海西蒙古族藏族自治州', '海东地区', '玉树藏族自治州', '果洛藏族自治州', '黄南藏族自治州', '海南藏族自治州', '海北藏族自治州'], ['宁夏回族自治区', '银川市', '吴忠市', '石嘴山市', '固原市'], ['西藏自治区', '日喀则地区', '那曲地区', '拉萨市', '山南地区', '阿里地区', '昌都地区', '林芝地区']]\n"
     ]
    }
   ],
   "source": [
    "# -*- coding:utf-8 -*-\n",
    "import requests\n",
    "from bs4 import BeautifulSoup\n",
    "\n",
    "\n",
    "url = 'http://www.a-hospital.com/w/全国医院列表'\n",
    "html = requests.get(url).text\n",
    "soup = BeautifulSoup(html, 'lxml')\n",
    "\n",
    "provinces = soup.select('div > h3')\n",
    "#print(names[:-3])\n",
    "print(len(provinces[:-3]))\n",
    "\n",
    "\n",
    "\n",
    "L=[]\n",
    "\n",
    "for eachprovince in provinces[:-3]:\n",
    "    all_province_hospital = eachprovince.next_sibling.next_sibling\n",
    "    #print(all_province_hospital.get_text())\n",
    "    \n",
    "    #存储在List列表\n",
    "    list=[]\n",
    "    list.append(all_province_hospital.get_text()[:-4])\n",
    "    \n",
    "    city = all_province_hospital.next_sibling.next_sibling\n",
    "    cities = city.find_all('a')\n",
    "    for j in range(len(cities)):\n",
    "        #print(cities[j].get_text())\n",
    "        temp = cities[j].get_text()\n",
    "        list.append(temp)\n",
    "    \n",
    "    #每个省作为一个List，然后全部省存在L\n",
    "    L.append(list)\n",
    "    #print('\\n')\n",
    "\n",
    "print(L)\n",
    "#L.save('province_city.xls')"
   ]
  },
  {
   "cell_type": "code",
   "execution_count": null,
   "metadata": {
    "collapsed": true
   },
   "outputs": [],
   "source": []
  },
  {
   "cell_type": "code",
   "execution_count": null,
   "metadata": {
    "collapsed": true
   },
   "outputs": [],
   "source": []
  },
  {
   "cell_type": "code",
   "execution_count": null,
   "metadata": {
    "collapsed": true
   },
   "outputs": [],
   "source": [
    "#  把数据L 存入   excel表格中"
   ]
  },
  {
   "cell_type": "code",
   "execution_count": 36,
   "metadata": {
    "collapsed": false
   },
   "outputs": [],
   "source": [
    "import xlwt  \n",
    "workbook=xlwt.Workbook(encoding='utf-8')  \n",
    "booksheet=workbook.add_sheet('Sheet 1', cell_overwrite_ok=True)  \n",
    "\n",
    "for i in range(len(L)):  \n",
    "    for j in range(len(L[i])):  \n",
    "        booksheet.write(i,j,L[i][j])  \n",
    "workbook.save('province_city.xls')  "
   ]
  },
  {
   "cell_type": "code",
   "execution_count": null,
   "metadata": {
    "collapsed": true
   },
   "outputs": [],
   "source": []
  },
  {
   "cell_type": "code",
   "execution_count": null,
   "metadata": {
    "collapsed": true
   },
   "outputs": [],
   "source": []
  },
  {
   "cell_type": "code",
   "execution_count": null,
   "metadata": {
    "collapsed": true
   },
   "outputs": [],
   "source": [
    "#想 把   L 数列   存入数据库   进行实验           效果不好，，，，id会自动增加"
   ]
  },
  {
   "cell_type": "code",
   "execution_count": null,
   "metadata": {
    "collapsed": false
   },
   "outputs": [],
   "source": [
    "import pymysql\n",
    "\n",
    "#创建数据库\n",
    "conn = pymysql.connect(host='127.0.0.1', port=3306, user='root', \n",
    "                       passwd='', db='jiadesen', charset='utf8')\n",
    "\n",
    "#打开游标\n",
    "cursor = conn.cursor()\n",
    "\n",
    "for each_province in range(len(L)):\n",
    "    #print(L[each_province][0])\n",
    "    sql = \"INSERT INTO province_list(province_name) VALUES( ' \"+ L[each_province][0] +\" ' )\"\n",
    "    print(sql)\n",
    "    cursor.execute(sql)\n",
    "    conn.commit()\n",
    "\n",
    "#cursor.close()"
   ]
  },
  {
   "cell_type": "code",
   "execution_count": null,
   "metadata": {
    "collapsed": true
   },
   "outputs": [],
   "source": []
  },
  {
   "cell_type": "code",
   "execution_count": null,
   "metadata": {
    "collapsed": true
   },
   "outputs": [],
   "source": []
  },
  {
   "cell_type": "code",
   "execution_count": null,
   "metadata": {
    "collapsed": true
   },
   "outputs": [],
   "source": []
  },
  {
   "cell_type": "code",
   "execution_count": null,
   "metadata": {
    "collapsed": true
   },
   "outputs": [],
   "source": []
  },
  {
   "cell_type": "code",
   "execution_count": null,
   "metadata": {
    "collapsed": true
   },
   "outputs": [],
   "source": []
  },
  {
   "cell_type": "code",
   "execution_count": null,
   "metadata": {
    "collapsed": true
   },
   "outputs": [],
   "source": []
  },
  {
   "cell_type": "code",
   "execution_count": null,
   "metadata": {
    "collapsed": true
   },
   "outputs": [],
   "source": []
  },
  {
   "cell_type": "markdown",
   "metadata": {},
   "source": [
    "# 获取每个市的  区"
   ]
  },
  {
   "cell_type": "code",
   "execution_count": 3,
   "metadata": {
    "collapsed": false
   },
   "outputs": [
    {
     "name": "stdout",
     "output_type": "stream",
     "text": [
      "http://www.a-hospital.com/w/苏州市医院列表\n",
      "['金阊区', '沧浪区', '平江区', '虎丘区', '吴中区', '相城区', '吴江市', '昆山市', '太仓市', '常熟市', '张家港市']\n"
     ]
    }
   ],
   "source": [
    "# -*- coding:utf-8 -*-\n",
    "import requests\n",
    "from bs4 import BeautifulSoup\n",
    "\n",
    "\n",
    "str1='http://www.a-hospital.com/w/'\n",
    "str3='医院列表'\n",
    "str2='苏州市'\n",
    "str=str1+str2+str3\n",
    "print(str)\n",
    "\n",
    "html_city = requests.get(str).text\n",
    "soup_city = BeautifulSoup(html_city, 'lxml')\n",
    "#county = soup_city.find('ul')\n",
    "#print(county.get_text())\n",
    "\n",
    "county = soup_city.find('ul')\n",
    "a_list = county.select('a')\n",
    "#print(len(a_list))\n",
    "#print(a_list[1].get_text())\n",
    "\n",
    "eachcity_county = []\n",
    "for u in range(len(a_list)):\n",
    "    eachcity_county.append(a_list[u].get_text()[:-2])\n",
    "\n",
    "print(eachcity_county)\n",
    "\n",
    "\n",
    "####for co in range(0,len(county.get_text()))"
   ]
  },
  {
   "cell_type": "code",
   "execution_count": null,
   "metadata": {
    "collapsed": true
   },
   "outputs": [],
   "source": []
  },
  {
   "cell_type": "code",
   "execution_count": null,
   "metadata": {
    "collapsed": true
   },
   "outputs": [],
   "source": []
  },
  {
   "cell_type": "markdown",
   "metadata": {
    "collapsed": true
   },
   "source": [
    "# 可具体到  每个市下面的  区\n",
    "#但 市有很多，多，多，多"
   ]
  },
  {
   "cell_type": "code",
   "execution_count": 48,
   "metadata": {
    "collapsed": false
   },
   "outputs": [
    {
     "name": "stdout",
     "output_type": "stream",
     "text": [
      "全部省的个数（含4个直辖市）：\n",
      "31\n",
      "[18, 18, 40, 18, 13, 21, 17, 14, 11, 18, 21, 13, 11, 17, 14, 10, 11, 16, 9, 17, 14, 11, 9, 18, 12, 14, 9, 19, 8, 4, 7]\n",
      "358\n",
      "['苏州市', '金阊区', '沧浪区', '平江区', '虎丘区', '吴中区', '相城区', '吴江市', '昆山市', '太仓市', '常熟市', '张家港市']\n",
      "['无锡市', '崇安区', '南长区', '北塘区', '滨湖区', '惠山区', '锡山区', '江阴市', '宜兴市']\n",
      "['淮安市', '清河区', '清浦区', '楚州区', '淮阴区', '金湖县', '盱眙县', '洪泽县', '涟水县']\n",
      "['南京市', '玄武区', '白下区', '秦淮区', '建邺区', '鼓楼区', '下关区', '浦口区', '六合区', '栖霞区', '雨花台区', '江宁区', '溧水县', '高淳县']\n",
      "['盐城市', '城区', '东台市', '大丰市', '盐都县', '射阳县', '阜宁县', '滨海县', '响水县', '建湖县']\n"
     ]
    }
   ],
   "source": [
    "# -*- coding:utf-8 -*-\n",
    "import requests\n",
    "from bs4 import BeautifulSoup\n",
    "\n",
    "url = 'http://www.a-hospital.com/w/全国医院列表'\n",
    "html = requests.get(url).text\n",
    "soup = BeautifulSoup(html, 'lxml')\n",
    "\n",
    "provinces = soup.select('div > h3')\n",
    "#print(names[:-3])\n",
    "print(\"全部省的个数（含4个直辖市）：\")\n",
    "print(len(provinces[:-3]))\n",
    "\n",
    "#每个省对应的医院个数\n",
    "count_city=[]\n",
    "\n",
    "L=[]\n",
    "\n",
    "for eachprovince in provinces[:-3]:\n",
    "    all_province_hospital = eachprovince.next_sibling.next_sibling\n",
    "    #print(all_province_hospital.get_text())\n",
    "    \n",
    "    #存储在List列表\n",
    "    list=[]\n",
    "    list.append(all_province_hospital.get_text()[:-4])\n",
    "    \n",
    "    city = all_province_hospital.next_sibling.next_sibling\n",
    "    cities = city.find_all('a')\n",
    "    #print(all_province_hospital.get_text()[:-4] +\"对应市的个数：\")\n",
    "    #print(len(cities))\n",
    "    count_city.append(len(cities))\n",
    "    for j in range(len(cities)):\n",
    "        #print(cities[j].get_text())\n",
    "        temp = cities[j].get_text()\n",
    "        list.append(temp)\n",
    "    \n",
    "    #每个省作为一个List，然后全部省存在L\n",
    "    L.append(list)\n",
    "    #print('\\n')\n",
    "\n",
    "#print(L)\n",
    "print(count_city)\n",
    "\n",
    "\n",
    "#以下是 省市  的列表形式\n",
    "\n",
    "#[['北京市医院列表', '朝阳区', '海淀区', '丰台区', '东城区', '西城区', '昌平区', '宣武区', '房山区', '崇文区', '石景山区',\n",
    "#'门头沟区', '通州区', '大兴区', '顺义区', '怀柔区', '密云县', '平谷区', '延庆县'], \n",
    "\n",
    "#['上海市医院列表', '浦东新区', '徐汇区', '长宁区', '闸北区', '虹口区', '杨浦区', '闵行区', '宝山区', '黄浦区', '奉贤区', \n",
    "#'静安区', '卢湾区', '普陀区', '崇明县', '青浦区', '嘉定区', '金山区', '松江区'], \n",
    "\n",
    "#['重庆市医院列表', '九龙坡区', '万州区', '沙坪坝区', '渝中区', '江北区', '南岸区', '巴南区', '永川市', '江津市', '綦江县',\n",
    "#'北碚区', '合川市', '南川市', '涪陵区', '渝北区', '大渡口区', '大足县', '长寿区', '荣昌县', '梁平县', '云阳县', '璧山县',\n",
    "#'开县', '万盛区', '潼南县', '垫江县', '丰都县', '巫溪县', '奉节县', '铜梁县', '忠县', '黔江区', '巫山县',\n",
    "#'酉阳土家族苗族自治县', '武隆县', '城口县', '彭水苗族土家族自治县', '秀山土家族苗族自治县', '双桥区', '石柱土家族自治县'],\n",
    "\n",
    "\n",
    "\n",
    "#接下来是获取对应  市   下面的  区   （去除几个直辖市的：北京、上海、重庆、天津）\n",
    "#共31个，，去除前4个直辖市，从第4开始\n",
    "str1='http://www.a-hospital.com/w/'\n",
    "str3='医院列表'\n",
    "\n",
    "#####存储了所有市     如下格式（对应上述省的顺序）\n",
    "#['苏州市', '无锡市', '淮安市', '南京市', '盐城市', '徐州市', '宿迁市', '泰州市', \n",
    "#'南通市', '常州市', '连云港市', '扬州市', '镇江市', '广州市', '深圳市', '惠州市',\n",
    "# '佛山市', '梅州市', '肇庆市', '韶关市', '揭阳市', '汕头市', '东莞市', '湛江市', \n",
    "#'中山市', '清远市', '潮州市', '茂名市', '珠海市', '江门市', '阳江市',\n",
    "\n",
    "L_city=[]\n",
    "#存储 所有市的列表    其中该列表中的每一项包括：：一个市名，，该市下所有的区\n",
    "for i in range(4,31):\n",
    "    for j in range(1,len(L[i])):\n",
    "        #print(L[i][j])\n",
    "        L_city.append(L[i][j])  \n",
    "    #print('\\n')   \n",
    "#print(L_city)\n",
    "\n",
    "\n",
    "print(len(L_city))\n",
    "#for k in range(len(L_city)):\n",
    "\n",
    "\n",
    "\n",
    "\n",
    "\n",
    "str1='http://www.a-hospital.com/w/'\n",
    "str3='医院列表'\n",
    "\n",
    "county_info = []\n",
    "#############################################################获取每个市下的  区\n",
    "#for re in range(len(L_city)):\n",
    "for re in range(5):\n",
    "    str2 = L_city[re]\n",
    "    str=str1+str2+str3\n",
    "    \n",
    "    html_city = requests.get(str).text\n",
    "    soup_city = BeautifulSoup(html_city, 'lxml')\n",
    "    #county = soup_city.find('ul')\n",
    "    #print(county.get_text())\n",
    "\n",
    "    county = soup_city.find('ul')\n",
    "    a_list = county.select('a')\n",
    "    #print(len(a_list))\n",
    "    #print(a_list[1].get_text())\n",
    "\n",
    "    eachcity_county = []\n",
    "    eachcity_county.append(L_city[re])\n",
    "    for u in range(len(a_list)):\n",
    "        eachcity_county.append(a_list[u].get_text()[:-2])\n",
    "\n",
    "    #print(eachcity_county)\n",
    "    county_info.append(eachcity_county)\n",
    "\n",
    "print(county_info[0])\n",
    "print(county_info[1])\n",
    "print(county_info[2])\n",
    "print(county_info[3])\n",
    "print(county_info[4])\n",
    "\n",
    "\n",
    "#print(county_info[len(L_city)])\n",
    "#print(county_info[len(L_city)-2])\n",
    "\n",
    "\n"
   ]
  },
  {
   "cell_type": "code",
   "execution_count": null,
   "metadata": {
    "collapsed": true
   },
   "outputs": [],
   "source": []
  },
  {
   "cell_type": "code",
   "execution_count": null,
   "metadata": {
    "collapsed": true
   },
   "outputs": [],
   "source": []
  },
  {
   "cell_type": "code",
   "execution_count": null,
   "metadata": {
    "collapsed": true
   },
   "outputs": [],
   "source": [
    "#和上面这部分类似，，，我想把每个省  的全部市下的所有区写出来，，，保存为  xx省.xls"
   ]
  },
  {
   "cell_type": "code",
   "execution_count": 42,
   "metadata": {
    "collapsed": false
   },
   "outputs": [
    {
     "name": "stdout",
     "output_type": "stream",
     "text": [
      "北京市\n"
     ]
    }
   ],
   "source": [
    "#workbook = xlrd.open_workbook(r'E:\\pycharm project\\movies.xls')\n",
    "#打印第i行数据  \n",
    "#print(sheet.row_values(i))  \n",
    "#打印第j列数据  \n",
    "#print(sheet.col_values(j))  \n",
    "\n",
    "import xlrd  \n",
    "#打开EXCEL文件  \n",
    "#excel = xlrd.open_workbook(r'D:\\AxAAAAAAAA\\work\\province_city.xls')  \n",
    "excel = xlrd.open_workbook('province_city.xls')  \n",
    "\n",
    "#获取第一个sheet  \n",
    "sheet = excel.sheets()[0]  \n",
    "\n",
    "#print(sheet.cell(0,0).value)"
   ]
  },
  {
   "cell_type": "code",
   "execution_count": null,
   "metadata": {
    "collapsed": true
   },
   "outputs": [],
   "source": []
  },
  {
   "cell_type": "code",
   "execution_count": null,
   "metadata": {
    "collapsed": true
   },
   "outputs": [],
   "source": []
  }
 ],
 "metadata": {
  "kernelspec": {
   "display_name": "Python 3",
   "language": "python",
   "name": "python3"
  },
  "language_info": {
   "codemirror_mode": {
    "name": "ipython",
    "version": 3
   },
   "file_extension": ".py",
   "mimetype": "text/x-python",
   "name": "python",
   "nbconvert_exporter": "python",
   "pygments_lexer": "ipython3",
   "version": "3.5.2"
  }
 },
 "nbformat": 4,
 "nbformat_minor": 0
}
