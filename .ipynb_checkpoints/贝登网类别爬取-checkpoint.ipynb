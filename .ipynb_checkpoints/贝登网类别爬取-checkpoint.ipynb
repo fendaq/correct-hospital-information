{
 "cells": [
  {
   "cell_type": "code",
   "execution_count": 1,
   "metadata": {
    "collapsed": true
   },
   "outputs": [],
   "source": [
    "import requests"
   ]
  },
  {
   "cell_type": "code",
   "execution_count": 2,
   "metadata": {
    "collapsed": true
   },
   "outputs": [],
   "source": [
    "r = requests.get(url='http://www.vedeng.com/default/category-tree.html')"
   ]
  },
  {
   "cell_type": "code",
   "execution_count": 6,
   "metadata": {
    "collapsed": false
   },
   "outputs": [],
   "source": [
    "from bs4 import BeautifulSoup"
   ]
  },
  {
   "cell_type": "code",
   "execution_count": 7,
   "metadata": {
    "collapsed": false
   },
   "outputs": [],
   "source": [
    "soup = BeautifulSoup(r.content, 'lxml')"
   ]
  },
  {
   "cell_type": "code",
   "execution_count": 10,
   "metadata": {
    "collapsed": false
   },
   "outputs": [],
   "source": [
    "menuItem_1 = soup.find(id=\"menuItem_1\")"
   ]
  },
  {
   "cell_type": "code",
   "execution_count": 11,
   "metadata": {
    "collapsed": false
   },
   "outputs": [],
   "source": [
    "first_type = menuItem_1.find(class_=\"category-trigger\").get_text()"
   ]
  },
  {
   "cell_type": "code",
   "execution_count": 25,
   "metadata": {
    "collapsed": true
   },
   "outputs": [],
   "source": [
    "second_type = menuItem_1.findAll(\"dl\")"
   ]
  },
  {
   "cell_type": "code",
   "execution_count": 26,
   "metadata": {
    "collapsed": true
   },
   "outputs": [],
   "source": [
    "from collections import defaultdict"
   ]
  },
  {
   "cell_type": "code",
   "execution_count": 27,
   "metadata": {
    "collapsed": false
   },
   "outputs": [],
   "source": [
    "fgf = defaultdict()\n",
    "fgf['临床检验'] = defaultdict()\n",
    "for dl in second_type:\n",
    "    dt = dl.find(\"dt\").get_text().strip()\n",
    "    temp = []\n",
    "    for a in dl.find(\"dd\").findAll(\"a\"):\n",
    "        temp.append(a.get_text().strip())\n",
    "    fgf['临床检验'][dt] = temp\n",
    "        "
   ]
  },
  {
   "cell_type": "code",
   "execution_count": 28,
   "metadata": {
    "collapsed": true
   },
   "outputs": [
    {
     "data": {
      "text/plain": [
       "defaultdict(None,\n",
       "            {'临床检验': defaultdict(None,\n",
       "                         {'体检机': [],\n",
       "                          '免疫分析': ['酶标仪', '洗板机'],\n",
       "                          '生化/尿液': ['全自动生化分析仪', '半自动生化分析仪', '尿液分析仪', '血脂仪'],\n",
       "                          '血液分析': ['血液细胞分析仪', '血凝分析仪', '电解质分析仪', '血沉仪']})})"
      ]
     },
     "execution_count": 28,
     "metadata": {},
     "output_type": "execute_result"
    }
   ],
   "source": [
    "fgf"
   ]
  },
  {
   "cell_type": "code",
   "execution_count": 17,
   "metadata": {
    "collapsed": true
   },
   "outputs": [],
   "source": [
    "menuItem = soup.findAll(class_=\"item\")"
   ]
  },
  {
   "cell_type": "code",
   "execution_count": 18,
   "metadata": {
    "collapsed": true
   },
   "outputs": [],
   "source": [
    "data_dict = defaultdict()\n",
    "\n",
    "for li in menuItem:\n",
    "    first_type = li.find(class_=\"category-trigger\").get_text()\n",
    "    data_dict[first_type] = defaultdict()\n",
    "   \n",
    "    for dl in li.findAll(\"dl\"):\n",
    "        second_type = dl.find(\"dt\").get_text().strip()\n",
    "        temp = []\n",
    "        for a in dl.find(\"dd\").findAll(\"a\"):\n",
    "            temp.append(a.get_text().strip())\n",
    "        data_dict[first_type][second_type] = temp"
   ]
  },
  {
   "cell_type": "code",
   "execution_count": 19,
   "metadata": {
    "collapsed": true
   },
   "outputs": [
    {
     "data": {
      "text/plain": [
       "defaultdict(None,\n",
       "            {'临床检验': defaultdict(None,\n",
       "                         {'体检机': [],\n",
       "                          '免疫分析': ['酶标仪', '洗板机'],\n",
       "                          '生化/尿液': ['全自动生化分析仪', '半自动生化分析仪', '尿液分析仪', '血脂仪'],\n",
       "                          '血液分析': ['血液细胞分析仪', '血凝分析仪', '电解质分析仪', '血沉仪']}),\n",
       "             '医学影像': defaultdict(None,\n",
       "                         {'X射线防护': ['防护服',\n",
       "                           '防护巾',\n",
       "                           '防护裤头',\n",
       "                           '护腿',\n",
       "                           '铅胶帽',\n",
       "                           '铅胶围领',\n",
       "                           '防护眼镜',\n",
       "                           '防护面罩',\n",
       "                           '防护手套',\n",
       "                           '护臂',\n",
       "                           '防护屏'],\n",
       "                          '普放设备': ['数字X射线摄影系统（DR）'],\n",
       "                          '配件': []}),\n",
       "             '医用光学': defaultdict(None,\n",
       "                         {'医用内窥镜': ['耳鼻喉镜', '呼吸系统内镜', '腹腔镜', '妇科内镜'],\n",
       "                          '手术显微': ['手术显微镜'],\n",
       "                          '眼科检查': ['裂隙灯', '验光仪', '视力筛查仪', '眼压计', '检眼镜']}),\n",
       "             '医用耗材': defaultdict(None,\n",
       "                         {'一次性医用耗材': [],\n",
       "                          '功能敷料': ['水胶敷料',\n",
       "                           '藻酸盐敷料',\n",
       "                           '含银敷料',\n",
       "                           '泡沫敷料',\n",
       "                           '透明敷料',\n",
       "                           '其他敷料'],\n",
       "                          '包扎敷料': ['创口贴',\n",
       "                           '纱布绷带',\n",
       "                           '自粘敷料',\n",
       "                           '医用胶带',\n",
       "                           '棉片棉球',\n",
       "                           '输液贴'],\n",
       "                          '导管/引流': ['导尿管/集尿袋'],\n",
       "                          '手术耗材': ['手术巾',\n",
       "                           '手术切口层保护器',\n",
       "                           '医用敷巾',\n",
       "                           '吸水垫',\n",
       "                           '医用包',\n",
       "                           '免缝胶带',\n",
       "                           '手术薄膜'],\n",
       "                          '打印纸': ['心电图纸', '脑电图纸', '监护仪纸', 'B超打印纸', '其他打印纸'],\n",
       "                          '缝合线': ['可吸收缝合线', '不可吸收缝合线'],\n",
       "                          '胶片/打印机': ['医用胶片', '医用打印机'],\n",
       "                          '防护隔离': ['医用口罩', '医用手套']}),\n",
       "             '实验仪器': defaultdict(None,\n",
       "                         {'净化消毒': ['灭菌器', '纯水机', '超净工作台', '生物安全柜', '超声波清洗机'],\n",
       "                          '分离浓缩': ['离心机',\n",
       "                           '真空泵',\n",
       "                           '离心浓缩仪',\n",
       "                           '旋转蒸发仪',\n",
       "                           '冷冻干燥机',\n",
       "                           '配件'],\n",
       "                          '实验耗材': ['移液器',\n",
       "                           '瓶口分液器',\n",
       "                           '移液吸头',\n",
       "                           '移液管',\n",
       "                           'PCR管',\n",
       "                           '冻存管',\n",
       "                           '离心管',\n",
       "                           '培养皿',\n",
       "                           '培养瓶',\n",
       "                           '封口膜',\n",
       "                           '过滤器',\n",
       "                           '试剂瓶'],\n",
       "                          '混合破碎': ['搅拌器', '混合器', '摇床', '分散机', '超声波破碎仪'],\n",
       "                          '温度控制': ['冰箱',\n",
       "                           '液氮罐',\n",
       "                           '细胞培养箱',\n",
       "                           '培养箱',\n",
       "                           '干燥箱',\n",
       "                           '制冰机',\n",
       "                           '水浴和干浴',\n",
       "                           '电热板',\n",
       "                           '配件'],\n",
       "                          '物性和电化学': ['实验天平',\n",
       "                           '粘度计',\n",
       "                           '分光光度计',\n",
       "                           'PH/电导率仪',\n",
       "                           '火焰光度计',\n",
       "                           '色谱仪'],\n",
       "                          '生命科学': ['显微镜',\n",
       "                           'PCR仪',\n",
       "                           '细胞计数仪',\n",
       "                           '电泳仪',\n",
       "                           '凝胶成像仪',\n",
       "                           '流式细胞仪',\n",
       "                           '摄像头',\n",
       "                           '自动化移液工作站']}),\n",
       "             '康复理疗': defaultdict(None,\n",
       "                         {'中医器具': ['灸具', '刮痧板', '负压罐', '针', '刀'],\n",
       "                          '中医诊断': ['经络分析仪', '中医专家系统', '痛阈测量仪', '舌相仪', '脉象仪'],\n",
       "                          '作业疗法': ['木插板',\n",
       "                           '取物器',\n",
       "                           '肌力测试训练器',\n",
       "                           '电动升降坐便椅',\n",
       "                           'OT综合训练工作台',\n",
       "                           '床',\n",
       "                           '桌',\n",
       "                           'PT凳'],\n",
       "                          '儿科康复': ['儿童训练阶梯', '儿童髋关节训练器', '引导式教育组合', '儿童站立架'],\n",
       "                          '光疗/磁疗': ['神灯（ TDP）',\n",
       "                           '全科治疗仪',\n",
       "                           '脉冲磁治疗仪',\n",
       "                           '经颅磁治疗仪',\n",
       "                           '红光治疗仪',\n",
       "                           '氦氖激光',\n",
       "                           '骨质疏松治疗仪',\n",
       "                           '电脑骨创伤治疗仪',\n",
       "                           '磁振热治疗仪',\n",
       "                           '半导体激光治疗仪',\n",
       "                           'CO2激光治疗仪'],\n",
       "                          '压力/熏蒸/牵引': ['超声波治疗仪',\n",
       "                           '熏蒸治疗仪',\n",
       "                           '空气波压力治疗仪',\n",
       "                           '体外冲击波治疗仪',\n",
       "                           '湿热敷装置',\n",
       "                           '牵引+中药熏蒸',\n",
       "                           '冷空气治疗仪',\n",
       "                           '颈椎牵引',\n",
       "                           '多功能牵引床'],\n",
       "                          '康复功能训练': ['关节康复训练器',\n",
       "                           '步行训练器',\n",
       "                           '电动升降站立架',\n",
       "                           '多功能训练器',\n",
       "                           '肢体康复器',\n",
       "                           '运动训练架',\n",
       "                           '训练阶梯',\n",
       "                           '下肢功率车',\n",
       "                           '上下肢训练器',\n",
       "                           '康复机器人',\n",
       "                           '减重系统'],\n",
       "                          '康复评定': ['言语障碍功能评估系统',\n",
       "                           '心理功能康复评定系统',\n",
       "                           '心肺功能测试系统',\n",
       "                           '吞咽障碍理疗仪',\n",
       "                           '听觉障碍康复评定',\n",
       "                           '视觉障碍康复评定',\n",
       "                           '神经康复功能评定系统',\n",
       "                           '认知康复功能评定系统',\n",
       "                           '儿童智力测试仪'],\n",
       "                          '电疗仪器': ['骨质增生治疗仪',\n",
       "                           '温热式低周波治疗仪',\n",
       "                           '温热电针综合治疗仪',\n",
       "                           '神经肌肉电刺激',\n",
       "                           '痉挛肌治疗仪',\n",
       "                           '经络导平治疗仪',\n",
       "                           '干扰电治疗仪',\n",
       "                           '中、低频治疗仪',\n",
       "                           '电针治疗仪',\n",
       "                           '肌电生物反馈',\n",
       "                           '微波治疗仪']}),\n",
       "             '手术急救': defaultdict(None,\n",
       "                         {'吸引/洗胃': ['负压吸引器', '吸痰器', '洗胃机'],\n",
       "                          '复苏供养': ['医用制氧机'],\n",
       "                          '手术设备': ['手术台',\n",
       "                           '产床',\n",
       "                           '耳鼻喉治疗台',\n",
       "                           '无影灯',\n",
       "                           '手术头灯',\n",
       "                           '麻醉机',\n",
       "                           '呼吸机',\n",
       "                           '高频电刀'],\n",
       "                          '输注辅助': ['注射泵', '输液泵', '营养泵']}),\n",
       "             '消毒灭菌': defaultdict(None,\n",
       "                         {'清洗耗材': ['多酶清洗剂', '润滑油、防锈剂'],\n",
       "                          '灭菌包装': ['医用无纺布', '皱纹纸', '纸塑包装袋', '医用封口机'],\n",
       "                          '灭菌监测': ['化学指示胶带',\n",
       "                           '生物指示剂',\n",
       "                           'BD测试纸/包',\n",
       "                           '生物阅读器',\n",
       "                           '化学指示卡',\n",
       "                           '化学指示标签'],\n",
       "                          '灭菌设备': ['压力蒸汽灭菌器', '灭菌器配件']}),\n",
       "             '电子超声': defaultdict(None,\n",
       "                         {'体征监护': ['多参数监护仪', '母婴监护仪', '健康一体机'],\n",
       "                          '体温/血压计': ['耳温计', '非接触额温计', '医用电子血压计', '全自动血压计'],\n",
       "                          '台车': [],\n",
       "                          '心电诊断': ['心电图机', '心电图工作站', '心电工作站', '脑电测量仪'],\n",
       "                          '普通诊查': ['听诊器',\n",
       "                           '体温计',\n",
       "                           '检眼镜',\n",
       "                           '叩诊锤',\n",
       "                           '手电',\n",
       "                           '雾化器',\n",
       "                           '血压表',\n",
       "                           '检耳镜'],\n",
       "                          '超声诊断': ['黑白超',\n",
       "                           '彩超',\n",
       "                           '经颅多普勒血流仪',\n",
       "                           '骨密度仪',\n",
       "                           '多普勒胎心仪',\n",
       "                           '胎儿/母婴监护',\n",
       "                           '配件'],\n",
       "                          '除颤起搏': ['除颤监护仪']})})"
      ]
     },
     "execution_count": 19,
     "metadata": {},
     "output_type": "execute_result"
    }
   ],
   "source": [
    "data_dict"
   ]
  },
  {
   "cell_type": "code",
   "execution_count": 41,
   "metadata": {
    "collapsed": false
   },
   "outputs": [],
   "source": [
    "import pymysql"
   ]
  },
  {
   "cell_type": "code",
   "execution_count": 76,
   "metadata": {
    "collapsed": false
   },
   "outputs": [],
   "source": [
    "conn = pymysql.connect(host='127.0.0.1', port=3306, user='root', \n",
    "                       passwd='', db='jiadesen', charset='utf8')"
   ]
  },
  {
   "cell_type": "code",
   "execution_count": 77,
   "metadata": {
    "collapsed": true
   },
   "outputs": [],
   "source": [
    "cursor = conn.cursor()"
   ]
  },
  {
   "cell_type": "code",
   "execution_count": 78,
   "metadata": {
    "collapsed": false
   },
   "outputs": [
    {
     "data": {
      "text/plain": [
       "dict_keys(['医学影像', '消毒灭菌', '手术急救', '实验仪器', '康复理疗', '电子超声', '临床检验', '医用耗材', '医用光学'])"
      ]
     },
     "execution_count": 78,
     "metadata": {},
     "output_type": "execute_result"
    }
   ],
   "source": [
    "data_dict.keys()"
   ]
  },
  {
   "cell_type": "code",
   "execution_count": 79,
   "metadata": {
    "collapsed": true
   },
   "outputs": [
    {
     "name": "stdout",
     "output_type": "stream",
     "text": [
      "INSERT INTO jiadesen_first_level_type(name) VALUES('医学影像')\n",
      "INSERT INTO jiadesen_first_level_type(name) VALUES('消毒灭菌')\n",
      "INSERT INTO jiadesen_first_level_type(name) VALUES('手术急救')\n",
      "INSERT INTO jiadesen_first_level_type(name) VALUES('实验仪器')\n",
      "INSERT INTO jiadesen_first_level_type(name) VALUES('康复理疗')\n",
      "INSERT INTO jiadesen_first_level_type(name) VALUES('电子超声')\n",
      "INSERT INTO jiadesen_first_level_type(name) VALUES('临床检验')\n",
      "INSERT INTO jiadesen_first_level_type(name) VALUES('医用耗材')\n",
      "INSERT INTO jiadesen_first_level_type(name) VALUES('医用光学')\n"
     ]
    }
   ],
   "source": [
    "for first_type in data_dict.keys():\n",
    "    sql = \"INSERT INTO jiadesen_first_level_type(name) VALUES('\" + first_type + \"')\"\n",
    "    print(sql)\n",
    "    cursor.execute(sql)\n",
    "    conn.commit()\n",
    "#cursor.close()\n",
    "#conn.close()"
   ]
  },
  {
   "cell_type": "code",
   "execution_count": 94,
   "metadata": {
    "collapsed": true
   },
   "outputs": [
    {
     "name": "stdout",
     "output_type": "stream",
     "text": [
      "医学影像\n",
      "1\n",
      "INSERT INTO jiadesen_second_level_type(first_level_type_id, name) VALUES(1,'普放设备')\n",
      "INSERT INTO jiadesen_second_level_type(first_level_type_id, name) VALUES(1,'配件')\n",
      "INSERT INTO jiadesen_second_level_type(first_level_type_id, name) VALUES(1,'X射线防护')\n",
      "消毒灭菌\n",
      "2\n",
      "INSERT INTO jiadesen_second_level_type(first_level_type_id, name) VALUES(2,'灭菌包装')\n",
      "INSERT INTO jiadesen_second_level_type(first_level_type_id, name) VALUES(2,'清洗耗材')\n",
      "INSERT INTO jiadesen_second_level_type(first_level_type_id, name) VALUES(2,'灭菌设备')\n",
      "INSERT INTO jiadesen_second_level_type(first_level_type_id, name) VALUES(2,'灭菌监测')\n",
      "手术急救\n",
      "3\n",
      "INSERT INTO jiadesen_second_level_type(first_level_type_id, name) VALUES(3,'复苏供养')\n",
      "INSERT INTO jiadesen_second_level_type(first_level_type_id, name) VALUES(3,'手术设备')\n",
      "INSERT INTO jiadesen_second_level_type(first_level_type_id, name) VALUES(3,'吸引/洗胃')\n",
      "INSERT INTO jiadesen_second_level_type(first_level_type_id, name) VALUES(3,'输注辅助')\n",
      "实验仪器\n",
      "4\n",
      "INSERT INTO jiadesen_second_level_type(first_level_type_id, name) VALUES(4,'物性和电化学')\n",
      "INSERT INTO jiadesen_second_level_type(first_level_type_id, name) VALUES(4,'实验耗材')\n",
      "INSERT INTO jiadesen_second_level_type(first_level_type_id, name) VALUES(4,'分离浓缩')\n",
      "INSERT INTO jiadesen_second_level_type(first_level_type_id, name) VALUES(4,'混合破碎')\n",
      "INSERT INTO jiadesen_second_level_type(first_level_type_id, name) VALUES(4,'生命科学')\n",
      "INSERT INTO jiadesen_second_level_type(first_level_type_id, name) VALUES(4,'温度控制')\n",
      "INSERT INTO jiadesen_second_level_type(first_level_type_id, name) VALUES(4,'净化消毒')\n",
      "康复理疗\n",
      "5\n",
      "INSERT INTO jiadesen_second_level_type(first_level_type_id, name) VALUES(5,'作业疗法')\n",
      "INSERT INTO jiadesen_second_level_type(first_level_type_id, name) VALUES(5,'光疗/磁疗')\n",
      "INSERT INTO jiadesen_second_level_type(first_level_type_id, name) VALUES(5,'中医诊断')\n",
      "INSERT INTO jiadesen_second_level_type(first_level_type_id, name) VALUES(5,'压力/熏蒸/牵引')\n",
      "INSERT INTO jiadesen_second_level_type(first_level_type_id, name) VALUES(5,'康复功能训练')\n",
      "INSERT INTO jiadesen_second_level_type(first_level_type_id, name) VALUES(5,'中医器具')\n",
      "INSERT INTO jiadesen_second_level_type(first_level_type_id, name) VALUES(5,'儿科康复')\n",
      "INSERT INTO jiadesen_second_level_type(first_level_type_id, name) VALUES(5,'康复评定')\n",
      "INSERT INTO jiadesen_second_level_type(first_level_type_id, name) VALUES(5,'电疗仪器')\n",
      "电子超声\n",
      "6\n",
      "INSERT INTO jiadesen_second_level_type(first_level_type_id, name) VALUES(6,'体温/血压计')\n",
      "INSERT INTO jiadesen_second_level_type(first_level_type_id, name) VALUES(6,'除颤起搏')\n",
      "INSERT INTO jiadesen_second_level_type(first_level_type_id, name) VALUES(6,'心电诊断')\n",
      "INSERT INTO jiadesen_second_level_type(first_level_type_id, name) VALUES(6,'超声诊断')\n",
      "INSERT INTO jiadesen_second_level_type(first_level_type_id, name) VALUES(6,'普通诊查')\n",
      "INSERT INTO jiadesen_second_level_type(first_level_type_id, name) VALUES(6,'体征监护')\n",
      "INSERT INTO jiadesen_second_level_type(first_level_type_id, name) VALUES(6,'台车')\n",
      "临床检验\n",
      "7\n",
      "INSERT INTO jiadesen_second_level_type(first_level_type_id, name) VALUES(7,'血液分析')\n",
      "INSERT INTO jiadesen_second_level_type(first_level_type_id, name) VALUES(7,'生化/尿液')\n",
      "INSERT INTO jiadesen_second_level_type(first_level_type_id, name) VALUES(7,'体检机')\n",
      "INSERT INTO jiadesen_second_level_type(first_level_type_id, name) VALUES(7,'免疫分析')\n",
      "医用耗材\n",
      "8\n",
      "INSERT INTO jiadesen_second_level_type(first_level_type_id, name) VALUES(8,'一次性医用耗材')\n",
      "INSERT INTO jiadesen_second_level_type(first_level_type_id, name) VALUES(8,'防护隔离')\n",
      "INSERT INTO jiadesen_second_level_type(first_level_type_id, name) VALUES(8,'导管/引流')\n",
      "INSERT INTO jiadesen_second_level_type(first_level_type_id, name) VALUES(8,'缝合线')\n",
      "INSERT INTO jiadesen_second_level_type(first_level_type_id, name) VALUES(8,'包扎敷料')\n",
      "INSERT INTO jiadesen_second_level_type(first_level_type_id, name) VALUES(8,'打印纸')\n",
      "INSERT INTO jiadesen_second_level_type(first_level_type_id, name) VALUES(8,'功能敷料')\n",
      "INSERT INTO jiadesen_second_level_type(first_level_type_id, name) VALUES(8,'手术耗材')\n",
      "INSERT INTO jiadesen_second_level_type(first_level_type_id, name) VALUES(8,'胶片/打印机')\n",
      "医用光学\n",
      "9\n",
      "INSERT INTO jiadesen_second_level_type(first_level_type_id, name) VALUES(9,'手术显微')\n",
      "INSERT INTO jiadesen_second_level_type(first_level_type_id, name) VALUES(9,'医用内窥镜')\n",
      "INSERT INTO jiadesen_second_level_type(first_level_type_id, name) VALUES(9,'眼科检查')\n"
     ]
    }
   ],
   "source": [
    "for first_type in data_dict.keys():\n",
    "    print(first_type)\n",
    "    sql = \"SELECT id FROM jiadesen_first_level_type WHERE name = '\" + first_type +\"'\"\n",
    "    cursor.execute(sql)\n",
    "    first_type_id = str(cursor.fetchone()[0])\n",
    "    print(first_type_id[0])\n",
    "    for second_type in data_dict[first_type].keys():\n",
    "        insert_sql = \"INSERT INTO jiadesen_second_level_type(first_level_type_id, name) VALUES(\" + first_type_id[0] + \",'\" + second_type + \"')\"\n",
    "        print(insert_sql)\n",
    "        cursor.execute(insert_sql)\n",
    "        conn.commit()\n",
    "        "
   ]
  },
  {
   "cell_type": "code",
   "execution_count": 93,
   "metadata": {
    "collapsed": true
   },
   "outputs": [
    {
     "data": {
      "text/plain": [
       "defaultdict(None,\n",
       "            {'临床检验': defaultdict(None,\n",
       "                         {'体检机': [],\n",
       "                          '免疫分析': ['酶标仪', '洗板机'],\n",
       "                          '生化/尿液': ['全自动生化分析仪', '半自动生化分析仪', '尿液分析仪', '血脂仪'],\n",
       "                          '血液分析': ['血液细胞分析仪', '血凝分析仪', '电解质分析仪', '血沉仪']}),\n",
       "             '医学影像': defaultdict(None,\n",
       "                         {'X射线防护': ['防护服',\n",
       "                           '防护巾',\n",
       "                           '防护裤头',\n",
       "                           '护腿',\n",
       "                           '铅胶帽',\n",
       "                           '铅胶围领',\n",
       "                           '防护眼镜',\n",
       "                           '防护面罩',\n",
       "                           '防护手套',\n",
       "                           '护臂',\n",
       "                           '防护屏'],\n",
       "                          '普放设备': ['数字X射线摄影系统（DR）'],\n",
       "                          '配件': []}),\n",
       "             '医用光学': defaultdict(None,\n",
       "                         {'医用内窥镜': ['耳鼻喉镜', '呼吸系统内镜', '腹腔镜', '妇科内镜'],\n",
       "                          '手术显微': ['手术显微镜'],\n",
       "                          '眼科检查': ['裂隙灯', '验光仪', '视力筛查仪', '眼压计', '检眼镜']}),\n",
       "             '医用耗材': defaultdict(None,\n",
       "                         {'一次性医用耗材': [],\n",
       "                          '功能敷料': ['水胶敷料',\n",
       "                           '藻酸盐敷料',\n",
       "                           '含银敷料',\n",
       "                           '泡沫敷料',\n",
       "                           '透明敷料',\n",
       "                           '其他敷料'],\n",
       "                          '包扎敷料': ['创口贴',\n",
       "                           '纱布绷带',\n",
       "                           '自粘敷料',\n",
       "                           '医用胶带',\n",
       "                           '棉片棉球',\n",
       "                           '输液贴'],\n",
       "                          '导管/引流': ['导尿管/集尿袋'],\n",
       "                          '手术耗材': ['手术巾',\n",
       "                           '手术切口层保护器',\n",
       "                           '医用敷巾',\n",
       "                           '吸水垫',\n",
       "                           '医用包',\n",
       "                           '免缝胶带',\n",
       "                           '手术薄膜'],\n",
       "                          '打印纸': ['心电图纸', '脑电图纸', '监护仪纸', 'B超打印纸', '其他打印纸'],\n",
       "                          '缝合线': ['可吸收缝合线', '不可吸收缝合线'],\n",
       "                          '胶片/打印机': ['医用胶片', '医用打印机'],\n",
       "                          '防护隔离': ['医用口罩', '医用手套']}),\n",
       "             '实验仪器': defaultdict(None,\n",
       "                         {'净化消毒': ['灭菌器', '纯水机', '超净工作台', '生物安全柜', '超声波清洗机'],\n",
       "                          '分离浓缩': ['离心机',\n",
       "                           '真空泵',\n",
       "                           '离心浓缩仪',\n",
       "                           '旋转蒸发仪',\n",
       "                           '冷冻干燥机',\n",
       "                           '配件'],\n",
       "                          '实验耗材': ['移液器',\n",
       "                           '瓶口分液器',\n",
       "                           '移液吸头',\n",
       "                           '移液管',\n",
       "                           'PCR管',\n",
       "                           '冻存管',\n",
       "                           '离心管',\n",
       "                           '培养皿',\n",
       "                           '培养瓶',\n",
       "                           '封口膜',\n",
       "                           '过滤器',\n",
       "                           '试剂瓶'],\n",
       "                          '混合破碎': ['搅拌器', '混合器', '摇床', '分散机', '超声波破碎仪'],\n",
       "                          '温度控制': ['冰箱',\n",
       "                           '液氮罐',\n",
       "                           '细胞培养箱',\n",
       "                           '培养箱',\n",
       "                           '干燥箱',\n",
       "                           '制冰机',\n",
       "                           '水浴和干浴',\n",
       "                           '电热板',\n",
       "                           '配件'],\n",
       "                          '物性和电化学': ['实验天平',\n",
       "                           '粘度计',\n",
       "                           '分光光度计',\n",
       "                           'PH/电导率仪',\n",
       "                           '火焰光度计',\n",
       "                           '色谱仪'],\n",
       "                          '生命科学': ['显微镜',\n",
       "                           'PCR仪',\n",
       "                           '细胞计数仪',\n",
       "                           '电泳仪',\n",
       "                           '凝胶成像仪',\n",
       "                           '流式细胞仪',\n",
       "                           '摄像头',\n",
       "                           '自动化移液工作站']}),\n",
       "             '康复理疗': defaultdict(None,\n",
       "                         {'中医器具': ['灸具', '刮痧板', '负压罐', '针', '刀'],\n",
       "                          '中医诊断': ['经络分析仪', '中医专家系统', '痛阈测量仪', '舌相仪', '脉象仪'],\n",
       "                          '作业疗法': ['木插板',\n",
       "                           '取物器',\n",
       "                           '肌力测试训练器',\n",
       "                           '电动升降坐便椅',\n",
       "                           'OT综合训练工作台',\n",
       "                           '床',\n",
       "                           '桌',\n",
       "                           'PT凳'],\n",
       "                          '儿科康复': ['儿童训练阶梯', '儿童髋关节训练器', '引导式教育组合', '儿童站立架'],\n",
       "                          '光疗/磁疗': ['神灯（ TDP）',\n",
       "                           '全科治疗仪',\n",
       "                           '脉冲磁治疗仪',\n",
       "                           '经颅磁治疗仪',\n",
       "                           '红光治疗仪',\n",
       "                           '氦氖激光',\n",
       "                           '骨质疏松治疗仪',\n",
       "                           '电脑骨创伤治疗仪',\n",
       "                           '磁振热治疗仪',\n",
       "                           '半导体激光治疗仪',\n",
       "                           'CO2激光治疗仪'],\n",
       "                          '压力/熏蒸/牵引': ['超声波治疗仪',\n",
       "                           '熏蒸治疗仪',\n",
       "                           '空气波压力治疗仪',\n",
       "                           '体外冲击波治疗仪',\n",
       "                           '湿热敷装置',\n",
       "                           '牵引+中药熏蒸',\n",
       "                           '冷空气治疗仪',\n",
       "                           '颈椎牵引',\n",
       "                           '多功能牵引床'],\n",
       "                          '康复功能训练': ['关节康复训练器',\n",
       "                           '步行训练器',\n",
       "                           '电动升降站立架',\n",
       "                           '多功能训练器',\n",
       "                           '肢体康复器',\n",
       "                           '运动训练架',\n",
       "                           '训练阶梯',\n",
       "                           '下肢功率车',\n",
       "                           '上下肢训练器',\n",
       "                           '康复机器人',\n",
       "                           '减重系统'],\n",
       "                          '康复评定': ['言语障碍功能评估系统',\n",
       "                           '心理功能康复评定系统',\n",
       "                           '心肺功能测试系统',\n",
       "                           '吞咽障碍理疗仪',\n",
       "                           '听觉障碍康复评定',\n",
       "                           '视觉障碍康复评定',\n",
       "                           '神经康复功能评定系统',\n",
       "                           '认知康复功能评定系统',\n",
       "                           '儿童智力测试仪'],\n",
       "                          '电疗仪器': ['骨质增生治疗仪',\n",
       "                           '温热式低周波治疗仪',\n",
       "                           '温热电针综合治疗仪',\n",
       "                           '神经肌肉电刺激',\n",
       "                           '痉挛肌治疗仪',\n",
       "                           '经络导平治疗仪',\n",
       "                           '干扰电治疗仪',\n",
       "                           '中、低频治疗仪',\n",
       "                           '电针治疗仪',\n",
       "                           '肌电生物反馈',\n",
       "                           '微波治疗仪']}),\n",
       "             '手术急救': defaultdict(None,\n",
       "                         {'吸引/洗胃': ['负压吸引器', '吸痰器', '洗胃机'],\n",
       "                          '复苏供养': ['医用制氧机'],\n",
       "                          '手术设备': ['手术台',\n",
       "                           '产床',\n",
       "                           '耳鼻喉治疗台',\n",
       "                           '无影灯',\n",
       "                           '手术头灯',\n",
       "                           '麻醉机',\n",
       "                           '呼吸机',\n",
       "                           '高频电刀'],\n",
       "                          '输注辅助': ['注射泵', '输液泵', '营养泵']}),\n",
       "             '消毒灭菌': defaultdict(None,\n",
       "                         {'清洗耗材': ['多酶清洗剂', '润滑油、防锈剂'],\n",
       "                          '灭菌包装': ['医用无纺布', '皱纹纸', '纸塑包装袋', '医用封口机'],\n",
       "                          '灭菌监测': ['化学指示胶带',\n",
       "                           '生物指示剂',\n",
       "                           'BD测试纸/包',\n",
       "                           '生物阅读器',\n",
       "                           '化学指示卡',\n",
       "                           '化学指示标签'],\n",
       "                          '灭菌设备': ['压力蒸汽灭菌器', '灭菌器配件']}),\n",
       "             '电子超声': defaultdict(None,\n",
       "                         {'体征监护': ['多参数监护仪', '母婴监护仪', '健康一体机'],\n",
       "                          '体温/血压计': ['耳温计', '非接触额温计', '医用电子血压计', '全自动血压计'],\n",
       "                          '台车': [],\n",
       "                          '心电诊断': ['心电图机', '心电图工作站', '心电工作站', '脑电测量仪'],\n",
       "                          '普通诊查': ['听诊器',\n",
       "                           '体温计',\n",
       "                           '检眼镜',\n",
       "                           '叩诊锤',\n",
       "                           '手电',\n",
       "                           '雾化器',\n",
       "                           '血压表',\n",
       "                           '检耳镜'],\n",
       "                          '超声诊断': ['黑白超',\n",
       "                           '彩超',\n",
       "                           '经颅多普勒血流仪',\n",
       "                           '骨密度仪',\n",
       "                           '多普勒胎心仪',\n",
       "                           '胎儿/母婴监护',\n",
       "                           '配件'],\n",
       "                          '除颤起搏': ['除颤监护仪']})})"
      ]
     },
     "execution_count": 93,
     "metadata": {},
     "output_type": "execute_result"
    }
   ],
   "source": [
    "data_dict"
   ]
  },
  {
   "cell_type": "code",
   "execution_count": 103,
   "metadata": {
    "collapsed": true
   },
   "outputs": [
    {
     "name": "stdout",
     "output_type": "stream",
     "text": [
      "医学影像\n",
      "普放设备\n",
      "配件\n",
      "X射线防护\n",
      "消毒灭菌\n",
      "灭菌包装\n",
      "清洗耗材\n",
      "灭菌设备\n",
      "灭菌监测\n",
      "手术急救\n",
      "复苏供养\n",
      "手术设备\n",
      "吸引/洗胃\n",
      "输注辅助\n",
      "实验仪器\n",
      "物性和电化学\n",
      "实验耗材\n",
      "分离浓缩\n",
      "混合破碎\n",
      "生命科学\n",
      "温度控制\n",
      "净化消毒\n",
      "康复理疗\n",
      "作业疗法\n",
      "光疗/磁疗\n",
      "中医诊断\n",
      "压力/熏蒸/牵引\n",
      "康复功能训练\n",
      "中医器具\n",
      "儿科康复\n",
      "康复评定\n",
      "电疗仪器\n",
      "电子超声\n",
      "体温/血压计\n",
      "除颤起搏\n",
      "心电诊断\n",
      "超声诊断\n",
      "普通诊查\n",
      "体征监护\n",
      "台车\n",
      "临床检验\n",
      "血液分析\n",
      "生化/尿液\n",
      "体检机\n",
      "免疫分析\n",
      "医用耗材\n",
      "一次性医用耗材\n",
      "防护隔离\n",
      "导管/引流\n",
      "缝合线\n",
      "包扎敷料\n",
      "打印纸\n",
      "功能敷料\n",
      "手术耗材\n",
      "胶片/打印机\n",
      "医用光学\n",
      "手术显微\n",
      "医用内窥镜\n",
      "眼科检查\n"
     ]
    }
   ],
   "source": [
    "for first_type in data_dict.keys():\n",
    "    print(first_type)\n",
    "    for second_type in data_dict[first_type].keys():\n",
    "        print(second_type)\n",
    "        \n",
    "        sql = \"SELECT id FROM jiadesen_second_level_type WHERE name = '\" + second_type +\"'\"\n",
    "        cursor.execute(sql)\n",
    "        second_type_id = str(cursor.fetchone()[0])\n",
    "        \n",
    "        if (len(data_dict[first_type][second_type]) > 0):\n",
    "            for value in data_dict[first_type][second_type]:\n",
    "                insert_sql = \"INSERT INTO jiadesen_third_level_type(second_level_type_id, name) VALUES(\" + second_type_id[0] + \",'\" + value + \"')\"\n",
    "                cursor.execute(insert_sql)\n",
    "                conn.commit()"
   ]
  },
  {
   "cell_type": "code",
   "execution_count": null,
   "metadata": {
    "collapsed": true
   },
   "outputs": [],
   "source": []
  }
 ],
 "metadata": {
  "kernelspec": {
   "display_name": "Python 3",
   "language": "python",
   "name": "python3"
  },
  "language_info": {
   "codemirror_mode": {
    "name": "ipython",
    "version": 3
   },
   "file_extension": ".py",
   "mimetype": "text/x-python",
   "name": "python",
   "nbconvert_exporter": "python",
   "pygments_lexer": "ipython3",
   "version": "3.5.2"
  },
  "toc": {
   "colors": {
    "hover_highlight": "#DAA520",
    "running_highlight": "#FF0000",
    "selected_highlight": "#FFD700"
   },
   "moveMenuLeft": true,
   "nav_menu": {
    "height": "12px",
    "width": "252px"
   },
   "navigate_menu": true,
   "number_sections": true,
   "sideBar": true,
   "threshold": 4,
   "toc_cell": false,
   "toc_section_display": "block",
   "toc_window_display": false
  }
 },
 "nbformat": 4,
 "nbformat_minor": 2
}
